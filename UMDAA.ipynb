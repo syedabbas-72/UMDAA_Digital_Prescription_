{
 "cells": [
  {
   "cell_type": "markdown",
   "id": "91e0b16e",
   "metadata": {},
   "source": [
    "Purpose\n",
    "- Convert physical prescriptions to digital\n",
    "- Version 0.1 (30th June)"
   ]
  },
  {
   "cell_type": "code",
   "execution_count": 25,
   "id": "debaf6c1",
   "metadata": {},
   "outputs": [],
   "source": [
    "import numpy as np\n",
    "import pandas as pd\n",
    "import os\n",
    "import difflib\n",
    "import nltk\n",
    "#from matplotlib.pyplot import plt\n",
    "#import pytesseract as pyt\n",
    "#import textract as txrt\n",
    "#import json"
   ]
  },
  {
   "cell_type": "code",
   "execution_count": 14,
   "id": "64cead57",
   "metadata": {},
   "outputs": [],
   "source": [
    "def findline(txt,lines):\n",
    "    i = 0\n",
    "    for line in lines:\n",
    "        if (line == txt):\n",
    "            result = i\n",
    "        i = i+1\n",
    "    return result"
   ]
  },
  {
   "cell_type": "code",
   "execution_count": 15,
   "id": "23ec1a98",
   "metadata": {},
   "outputs": [],
   "source": [
    "def extractinvest(txtpath):\n",
    "    with open(txtpath,'r',encoding='utf-8') as f:\n",
    "        lines = f.readlines()\n",
    "        ins_start = findline('Line: Investigations\\n',lines)\n",
    "        ins_end = findline('Word: Dr.\\n',lines)\n",
    "        lst_investigations = lines[ins_start:ins_end]\n",
    "    return lst_investigations"
   ]
  },
  {
   "cell_type": "code",
   "execution_count": 52,
   "id": "9ca4b9b3",
   "metadata": {},
   "outputs": [],
   "source": [
    "def returnspell(old_word):\n",
    "    try:\n",
    "        new_word = difflib.get_close_matches(old_word, master_words)[0]\n",
    "    except:\n",
    "        new_word = old_word\n",
    "    return new_word"
   ]
  },
  {
   "cell_type": "code",
   "execution_count": 23,
   "id": "3279a875",
   "metadata": {},
   "outputs": [],
   "source": [
    "# Master List of Investigations\n",
    "df_investigations = pd.ExcelFile('D:\\\\Personal\\\\10. Withxl\\\\UMDAA Health Care\\\\attachments\\\\attachments\\\\Final Lab Package List.xlsx')\n",
    "df_investigations = df_investigations.parse('Package List')\n",
    "\n",
    "# Extracting unique words from master list of investigations\n",
    "master_words = []\n",
    "\n",
    "for i in range(0,df_investigations.shape[0]):\n",
    "    temp = df_investigations['package_name'][i].split(\" \")\n",
    "    master_words.extend(temp)\n",
    "master_words = np.unique(master_words)"
   ]
  },
  {
   "cell_type": "code",
   "execution_count": 16,
   "id": "92af5119",
   "metadata": {},
   "outputs": [],
   "source": [
    "# Listing down the files (.txt) which were generated from Pytesseract\n",
    "txt_files = list()\n",
    "for root, dirs, files in os.walk(\"D:\\\\Personal\\\\10. Withxl\\\\UMDAA Health Care\\\\attachments\\\\attachments\"):\n",
    "    for file in files:\n",
    "        if file.endswith(\".txt\"):\n",
    "             txt_files.append(os.path.join(root, file))"
   ]
  },
  {
   "cell_type": "code",
   "execution_count": 17,
   "id": "51231246",
   "metadata": {},
   "outputs": [
    {
     "data": {
      "text/plain": [
       "['D:\\\\Personal\\\\10. Withxl\\\\UMDAA Health Care\\\\attachments\\\\attachments\\\\1\\\\1624350138487.txt',\n",
       " 'D:\\\\Personal\\\\10. Withxl\\\\UMDAA Health Care\\\\attachments\\\\attachments\\\\2\\\\1624350138526.txt',\n",
       " 'D:\\\\Personal\\\\10. Withxl\\\\UMDAA Health Care\\\\attachments\\\\attachments\\\\3\\\\IMG_20210623_092527.txt',\n",
       " 'D:\\\\Personal\\\\10. Withxl\\\\UMDAA Health Care\\\\attachments\\\\attachments\\\\4\\\\IMG_20210623_091751.txt',\n",
       " 'D:\\\\Personal\\\\10. Withxl\\\\UMDAA Health Care\\\\attachments\\\\attachments\\\\5\\\\IMG_20210622_154816.txt']"
      ]
     },
     "execution_count": 17,
     "metadata": {},
     "output_type": "execute_result"
    }
   ],
   "source": [
    "txt_files"
   ]
  },
  {
   "cell_type": "code",
   "execution_count": 28,
   "id": "40753262",
   "metadata": {},
   "outputs": [],
   "source": [
    "temp_investigations = extractinvest(txt_files[0])"
   ]
  },
  {
   "cell_type": "code",
   "execution_count": 46,
   "id": "cba70e52",
   "metadata": {},
   "outputs": [
    {
     "data": {
      "text/plain": [
       "['Line: Investigations\\n',\n",
       " 'Line: TSH\\n',\n",
       " 'Line: ultearound abdomer\\n',\n",
       " 'Line: endoscond\\n',\n",
       " 'Line: if no. improvent\\n',\n",
       " 'Line: x-ray D-L - Sprie lalnal - view.\\n']"
      ]
     },
     "execution_count": 46,
     "metadata": {},
     "output_type": "execute_result"
    }
   ],
   "source": [
    "temp_investigations"
   ]
  },
  {
   "cell_type": "code",
   "execution_count": 93,
   "id": "2a127cd9",
   "metadata": {},
   "outputs": [],
   "source": [
    "for txt in txt_files[0:1]:\n",
    "    old_list = extractinvest(txt)\n",
    "    new_list = []\n",
    "    for line in old_list:\n",
    "        words = line.split(\" \")\n",
    "        new_line = \"\"\n",
    "        for word in words[1:]:\n",
    "            #print (word)\n",
    "            new_word = returnspell(word)\n",
    "            new_line = new_line + \" \"+ new_word\n",
    "        new_list.append(new_line)"
   ]
  },
  {
   "cell_type": "code",
   "execution_count": 94,
   "id": "5830f4fa",
   "metadata": {},
   "outputs": [
    {
     "data": {
      "text/plain": [
       "['Line: Investigations\\n',\n",
       " 'Line: TSH\\n',\n",
       " 'Line: ultearound abdomer\\n',\n",
       " 'Line: endoscond\\n',\n",
       " 'Line: if no. improvent\\n',\n",
       " 'Line: x-ray D-L - Sprie lalnal - view.\\n']"
      ]
     },
     "execution_count": 94,
     "metadata": {},
     "output_type": "execute_result"
    }
   ],
   "source": [
    "old_list"
   ]
  },
  {
   "cell_type": "code",
   "execution_count": 102,
   "id": "e0bf9a8b",
   "metadata": {},
   "outputs": [
    {
     "name": "stdout",
     "output_type": "stream",
     "text": [
      "Investigations\n",
      "\n",
      "['THYROID STIMULATING HORMONE (TSH)']\n",
      "['Ultrasound Abdomen & Pelvis (early pregnancy)', 'Ultrasound Abdomen & Pelvis (female)', 'Ultrasound Abdomen & Pelvis (male)']\n",
      "['Endoscopy Report']\n",
      "if no improvent\n",
      "\n",
      "Extra HDL - Spine Placental - View\n"
     ]
    }
   ],
   "source": [
    "for line in new_list:\n",
    "    line = line[1:]\n",
    "    matching = [s for s in df_investigations['package_name'] if line in s]\n",
    "    if len(matching)>0:\n",
    "        print (matching)\n",
    "    else:\n",
    "        matching = line\n",
    "        print (matching)\n"
   ]
  }
 ],
 "metadata": {
  "kernelspec": {
   "display_name": "Python 3",
   "language": "python",
   "name": "python3"
  },
  "language_info": {
   "codemirror_mode": {
    "name": "ipython",
    "version": 3
   },
   "file_extension": ".py",
   "mimetype": "text/x-python",
   "name": "python",
   "nbconvert_exporter": "python",
   "pygments_lexer": "ipython3",
   "version": "3.8.8"
  }
 },
 "nbformat": 4,
 "nbformat_minor": 5
}
